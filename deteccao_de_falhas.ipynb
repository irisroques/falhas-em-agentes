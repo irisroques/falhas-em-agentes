{
  "nbformat": 4,
  "nbformat_minor": 0,
  "metadata": {
    "colab": {
      "name": "deteccao_de_falhas.ipynb",
      "provenance": [],
      "collapsed_sections": [],
      "authorship_tag": "ABX9TyMPRPPLT6Jj2BJcwmfaOAJ8",
      "include_colab_link": true
    },
    "kernelspec": {
      "name": "python3",
      "display_name": "Python 3"
    },
    "language_info": {
      "name": "python"
    }
  },
  "cells": [
    {
      "cell_type": "markdown",
      "metadata": {
        "id": "view-in-github",
        "colab_type": "text"
      },
      "source": [
        "<a href=\"https://colab.research.google.com/github/irisroques/falhas-em-agentes/blob/main/deteccao_de_falhas.ipynb\" target=\"_parent\"><img src=\"https://colab.research.google.com/assets/colab-badge.svg\" alt=\"Open In Colab\"/></a>"
      ]
    },
    {
      "cell_type": "markdown",
      "metadata": {
        "id": "GvA8Ro97LsPw"
      },
      "source": [
        "# Detecção de Falhas em Sensores em Sistemas Multiagente"
      ]
    },
    {
      "cell_type": "code",
      "metadata": {
        "colab": {
          "base_uri": "https://localhost:8080/"
        },
        "id": "kUjSDxxtG9a1",
        "outputId": "babc4843-fb23-40ff-fa30-853de63722a9"
      },
      "source": [
        "!pip install mesa"
      ],
      "execution_count": null,
      "outputs": [
        {
          "output_type": "stream",
          "text": [
            "Collecting mesa\n",
            "\u001b[?25l  Downloading https://files.pythonhosted.org/packages/3b/f1/f1d6ac8cd6e66cc2d0d1f9d631877110e87a74f113e6e3227e9054e09176/Mesa-0.8.9-py3-none-any.whl (668kB)\n",
            "\u001b[K     |████████████████████████████████| 675kB 4.1MB/s \n",
            "\u001b[?25hRequirement already satisfied: numpy in /usr/local/lib/python3.7/dist-packages (from mesa) (1.19.5)\n",
            "Requirement already satisfied: networkx in /usr/local/lib/python3.7/dist-packages (from mesa) (2.5.1)\n",
            "Requirement already satisfied: click in /usr/local/lib/python3.7/dist-packages (from mesa) (7.1.2)\n",
            "Requirement already satisfied: pandas in /usr/local/lib/python3.7/dist-packages (from mesa) (1.1.5)\n",
            "Collecting cookiecutter\n",
            "  Downloading https://files.pythonhosted.org/packages/a2/62/d061b19f307455506e63825586e2e1816b71d56b4a5873c278cb315b9660/cookiecutter-1.7.3-py2.py3-none-any.whl\n",
            "Requirement already satisfied: tqdm in /usr/local/lib/python3.7/dist-packages (from mesa) (4.41.1)\n",
            "Requirement already satisfied: tornado in /usr/local/lib/python3.7/dist-packages (from mesa) (5.1.1)\n",
            "Requirement already satisfied: decorator<5,>=4.3 in /usr/local/lib/python3.7/dist-packages (from networkx->mesa) (4.4.2)\n",
            "Requirement already satisfied: python-dateutil>=2.7.3 in /usr/local/lib/python3.7/dist-packages (from pandas->mesa) (2.8.1)\n",
            "Requirement already satisfied: pytz>=2017.2 in /usr/local/lib/python3.7/dist-packages (from pandas->mesa) (2018.9)\n",
            "Collecting poyo>=0.5.0\n",
            "  Downloading https://files.pythonhosted.org/packages/42/50/0b0820601bde2eda403f47b9a4a1f270098ed0dd4c00c443d883164bdccc/poyo-0.5.0-py2.py3-none-any.whl\n",
            "Requirement already satisfied: python-slugify>=4.0.0 in /usr/local/lib/python3.7/dist-packages (from cookiecutter->mesa) (5.0.2)\n",
            "Requirement already satisfied: Jinja2<4.0.0,>=2.7 in /usr/local/lib/python3.7/dist-packages (from cookiecutter->mesa) (2.11.3)\n",
            "Collecting jinja2-time>=0.2.0\n",
            "  Downloading https://files.pythonhosted.org/packages/6a/a1/d44fa38306ffa34a7e1af09632b158e13ec89670ce491f8a15af3ebcb4e4/jinja2_time-0.2.0-py2.py3-none-any.whl\n",
            "Collecting binaryornot>=0.4.4\n",
            "  Downloading https://files.pythonhosted.org/packages/24/7e/f7b6f453e6481d1e233540262ccbfcf89adcd43606f44a028d7f5fae5eb2/binaryornot-0.4.4-py2.py3-none-any.whl\n",
            "Requirement already satisfied: requests>=2.23.0 in /usr/local/lib/python3.7/dist-packages (from cookiecutter->mesa) (2.23.0)\n",
            "Requirement already satisfied: six>=1.10 in /usr/local/lib/python3.7/dist-packages (from cookiecutter->mesa) (1.15.0)\n",
            "Requirement already satisfied: text-unidecode>=1.3 in /usr/local/lib/python3.7/dist-packages (from python-slugify>=4.0.0->cookiecutter->mesa) (1.3)\n",
            "Requirement already satisfied: MarkupSafe>=0.23 in /usr/local/lib/python3.7/dist-packages (from Jinja2<4.0.0,>=2.7->cookiecutter->mesa) (2.0.1)\n",
            "Collecting arrow\n",
            "\u001b[?25l  Downloading https://files.pythonhosted.org/packages/e3/3a/dcb889af8de025f1fca9afd47f52726e24f4bc10aab3bc88a609cdd30250/arrow-1.1.0-py3-none-any.whl (58kB)\n",
            "\u001b[K     |████████████████████████████████| 61kB 5.7MB/s \n",
            "\u001b[?25hRequirement already satisfied: chardet>=3.0.2 in /usr/local/lib/python3.7/dist-packages (from binaryornot>=0.4.4->cookiecutter->mesa) (3.0.4)\n",
            "Requirement already satisfied: idna<3,>=2.5 in /usr/local/lib/python3.7/dist-packages (from requests>=2.23.0->cookiecutter->mesa) (2.10)\n",
            "Requirement already satisfied: urllib3!=1.25.0,!=1.25.1,<1.26,>=1.21.1 in /usr/local/lib/python3.7/dist-packages (from requests>=2.23.0->cookiecutter->mesa) (1.24.3)\n",
            "Requirement already satisfied: certifi>=2017.4.17 in /usr/local/lib/python3.7/dist-packages (from requests>=2.23.0->cookiecutter->mesa) (2021.5.30)\n",
            "Requirement already satisfied: typing-extensions; python_version < \"3.8\" in /usr/local/lib/python3.7/dist-packages (from arrow->jinja2-time>=0.2.0->cookiecutter->mesa) (3.7.4.3)\n",
            "Installing collected packages: poyo, arrow, jinja2-time, binaryornot, cookiecutter, mesa\n",
            "Successfully installed arrow-1.1.0 binaryornot-0.4.4 cookiecutter-1.7.3 jinja2-time-0.2.0 mesa-0.8.9 poyo-0.5.0\n"
          ],
          "name": "stdout"
        }
      ]
    },
    {
      "cell_type": "code",
      "metadata": {
        "id": "klV2UMXcqGcz"
      },
      "source": [
        ""
      ],
      "execution_count": null,
      "outputs": []
    },
    {
      "cell_type": "markdown",
      "metadata": {
        "id": "Lf761ldWMwKH"
      },
      "source": [
        ""
      ]
    },
    {
      "cell_type": "code",
      "metadata": {
        "id": "yD925mPFLrLj",
        "colab": {
          "base_uri": "https://localhost:8080/"
        },
        "outputId": "c90597ee-f53f-43a9-bd1b-88a55e533fa1"
      },
      "source": [
        "#Carregando datasets\n",
        "from google.colab import drive \n",
        "drive.mount('/content/gdrive')\n"
      ],
      "execution_count": null,
      "outputs": [
        {
          "output_type": "stream",
          "text": [
            "Drive already mounted at /content/gdrive; to attempt to forcibly remount, call drive.mount(\"/content/gdrive\", force_remount=True).\n"
          ],
          "name": "stdout"
        }
      ]
    },
    {
      "cell_type": "code",
      "metadata": {
        "id": "0pUTeMAmJU_9",
        "colab": {
          "base_uri": "https://localhost:8080/",
          "height": 326
        },
        "outputId": "7f8d6208-555e-4362-e036-277f3ebf780e"
      },
      "source": [
        "import pandas as pd \n",
        "df=pd.read_csv('gdrive/My Drive/sensor.csv')\n",
        "df.head()"
      ],
      "execution_count": null,
      "outputs": [
        {
          "output_type": "execute_result",
          "data": {
            "text/html": [
              "<div>\n",
              "<style scoped>\n",
              "    .dataframe tbody tr th:only-of-type {\n",
              "        vertical-align: middle;\n",
              "    }\n",
              "\n",
              "    .dataframe tbody tr th {\n",
              "        vertical-align: top;\n",
              "    }\n",
              "\n",
              "    .dataframe thead th {\n",
              "        text-align: right;\n",
              "    }\n",
              "</style>\n",
              "<table border=\"1\" class=\"dataframe\">\n",
              "  <thead>\n",
              "    <tr style=\"text-align: right;\">\n",
              "      <th></th>\n",
              "      <th>Unnamed: 0</th>\n",
              "      <th>timestamp</th>\n",
              "      <th>sensor_00</th>\n",
              "      <th>sensor_01</th>\n",
              "      <th>sensor_02</th>\n",
              "      <th>sensor_03</th>\n",
              "      <th>sensor_04</th>\n",
              "      <th>sensor_05</th>\n",
              "      <th>sensor_06</th>\n",
              "      <th>sensor_07</th>\n",
              "      <th>sensor_08</th>\n",
              "      <th>sensor_09</th>\n",
              "      <th>sensor_10</th>\n",
              "      <th>sensor_11</th>\n",
              "      <th>sensor_12</th>\n",
              "      <th>sensor_13</th>\n",
              "      <th>sensor_14</th>\n",
              "      <th>sensor_15</th>\n",
              "      <th>sensor_16</th>\n",
              "      <th>sensor_17</th>\n",
              "      <th>sensor_18</th>\n",
              "      <th>sensor_19</th>\n",
              "      <th>sensor_20</th>\n",
              "      <th>sensor_21</th>\n",
              "      <th>sensor_22</th>\n",
              "      <th>sensor_23</th>\n",
              "      <th>sensor_24</th>\n",
              "      <th>sensor_25</th>\n",
              "      <th>sensor_26</th>\n",
              "      <th>sensor_27</th>\n",
              "      <th>sensor_28</th>\n",
              "      <th>sensor_29</th>\n",
              "      <th>sensor_30</th>\n",
              "      <th>sensor_31</th>\n",
              "      <th>sensor_32</th>\n",
              "      <th>sensor_33</th>\n",
              "      <th>sensor_34</th>\n",
              "      <th>sensor_35</th>\n",
              "      <th>sensor_36</th>\n",
              "      <th>sensor_37</th>\n",
              "      <th>sensor_38</th>\n",
              "      <th>sensor_39</th>\n",
              "      <th>sensor_40</th>\n",
              "      <th>sensor_41</th>\n",
              "      <th>sensor_42</th>\n",
              "      <th>sensor_43</th>\n",
              "      <th>sensor_44</th>\n",
              "      <th>sensor_45</th>\n",
              "      <th>sensor_46</th>\n",
              "      <th>sensor_47</th>\n",
              "      <th>sensor_48</th>\n",
              "      <th>sensor_49</th>\n",
              "      <th>sensor_50</th>\n",
              "      <th>sensor_51</th>\n",
              "      <th>machine_status</th>\n",
              "    </tr>\n",
              "  </thead>\n",
              "  <tbody>\n",
              "    <tr>\n",
              "      <th>0</th>\n",
              "      <td>0</td>\n",
              "      <td>2018-04-01 00:00:00</td>\n",
              "      <td>2.465394</td>\n",
              "      <td>47.09201</td>\n",
              "      <td>53.2118</td>\n",
              "      <td>46.310760</td>\n",
              "      <td>634.3750</td>\n",
              "      <td>76.45975</td>\n",
              "      <td>13.41146</td>\n",
              "      <td>16.13136</td>\n",
              "      <td>15.56713</td>\n",
              "      <td>15.05353</td>\n",
              "      <td>37.22740</td>\n",
              "      <td>47.52422</td>\n",
              "      <td>31.11716</td>\n",
              "      <td>1.681353</td>\n",
              "      <td>419.5747</td>\n",
              "      <td>NaN</td>\n",
              "      <td>461.8781</td>\n",
              "      <td>466.3284</td>\n",
              "      <td>2.565284</td>\n",
              "      <td>665.3993</td>\n",
              "      <td>398.9862</td>\n",
              "      <td>880.0001</td>\n",
              "      <td>498.8926</td>\n",
              "      <td>975.9409</td>\n",
              "      <td>627.6740</td>\n",
              "      <td>741.7151</td>\n",
              "      <td>848.0708</td>\n",
              "      <td>429.0377</td>\n",
              "      <td>785.1935</td>\n",
              "      <td>684.9443</td>\n",
              "      <td>594.4445</td>\n",
              "      <td>682.8125</td>\n",
              "      <td>680.4416</td>\n",
              "      <td>433.7037</td>\n",
              "      <td>171.9375</td>\n",
              "      <td>341.9039</td>\n",
              "      <td>195.0655</td>\n",
              "      <td>90.32386</td>\n",
              "      <td>40.36458</td>\n",
              "      <td>31.51042</td>\n",
              "      <td>70.57291</td>\n",
              "      <td>30.98958</td>\n",
              "      <td>31.770832</td>\n",
              "      <td>41.92708</td>\n",
              "      <td>39.641200</td>\n",
              "      <td>65.68287</td>\n",
              "      <td>50.92593</td>\n",
              "      <td>38.194440</td>\n",
              "      <td>157.9861</td>\n",
              "      <td>67.70834</td>\n",
              "      <td>243.0556</td>\n",
              "      <td>201.3889</td>\n",
              "      <td>NORMAL</td>\n",
              "    </tr>\n",
              "    <tr>\n",
              "      <th>1</th>\n",
              "      <td>1</td>\n",
              "      <td>2018-04-01 00:01:00</td>\n",
              "      <td>2.465394</td>\n",
              "      <td>47.09201</td>\n",
              "      <td>53.2118</td>\n",
              "      <td>46.310760</td>\n",
              "      <td>634.3750</td>\n",
              "      <td>76.45975</td>\n",
              "      <td>13.41146</td>\n",
              "      <td>16.13136</td>\n",
              "      <td>15.56713</td>\n",
              "      <td>15.05353</td>\n",
              "      <td>37.22740</td>\n",
              "      <td>47.52422</td>\n",
              "      <td>31.11716</td>\n",
              "      <td>1.681353</td>\n",
              "      <td>419.5747</td>\n",
              "      <td>NaN</td>\n",
              "      <td>461.8781</td>\n",
              "      <td>466.3284</td>\n",
              "      <td>2.565284</td>\n",
              "      <td>665.3993</td>\n",
              "      <td>398.9862</td>\n",
              "      <td>880.0001</td>\n",
              "      <td>498.8926</td>\n",
              "      <td>975.9409</td>\n",
              "      <td>627.6740</td>\n",
              "      <td>741.7151</td>\n",
              "      <td>848.0708</td>\n",
              "      <td>429.0377</td>\n",
              "      <td>785.1935</td>\n",
              "      <td>684.9443</td>\n",
              "      <td>594.4445</td>\n",
              "      <td>682.8125</td>\n",
              "      <td>680.4416</td>\n",
              "      <td>433.7037</td>\n",
              "      <td>171.9375</td>\n",
              "      <td>341.9039</td>\n",
              "      <td>195.0655</td>\n",
              "      <td>90.32386</td>\n",
              "      <td>40.36458</td>\n",
              "      <td>31.51042</td>\n",
              "      <td>70.57291</td>\n",
              "      <td>30.98958</td>\n",
              "      <td>31.770832</td>\n",
              "      <td>41.92708</td>\n",
              "      <td>39.641200</td>\n",
              "      <td>65.68287</td>\n",
              "      <td>50.92593</td>\n",
              "      <td>38.194440</td>\n",
              "      <td>157.9861</td>\n",
              "      <td>67.70834</td>\n",
              "      <td>243.0556</td>\n",
              "      <td>201.3889</td>\n",
              "      <td>NORMAL</td>\n",
              "    </tr>\n",
              "    <tr>\n",
              "      <th>2</th>\n",
              "      <td>2</td>\n",
              "      <td>2018-04-01 00:02:00</td>\n",
              "      <td>2.444734</td>\n",
              "      <td>47.35243</td>\n",
              "      <td>53.2118</td>\n",
              "      <td>46.397570</td>\n",
              "      <td>638.8889</td>\n",
              "      <td>73.54598</td>\n",
              "      <td>13.32465</td>\n",
              "      <td>16.03733</td>\n",
              "      <td>15.61777</td>\n",
              "      <td>15.01013</td>\n",
              "      <td>37.86777</td>\n",
              "      <td>48.17723</td>\n",
              "      <td>32.08894</td>\n",
              "      <td>1.708474</td>\n",
              "      <td>420.8480</td>\n",
              "      <td>NaN</td>\n",
              "      <td>462.7798</td>\n",
              "      <td>459.6364</td>\n",
              "      <td>2.500062</td>\n",
              "      <td>666.2234</td>\n",
              "      <td>399.9418</td>\n",
              "      <td>880.4237</td>\n",
              "      <td>501.3617</td>\n",
              "      <td>982.7342</td>\n",
              "      <td>631.1326</td>\n",
              "      <td>740.8031</td>\n",
              "      <td>849.8997</td>\n",
              "      <td>454.2390</td>\n",
              "      <td>778.5734</td>\n",
              "      <td>715.6266</td>\n",
              "      <td>661.5740</td>\n",
              "      <td>721.8750</td>\n",
              "      <td>694.7721</td>\n",
              "      <td>441.2635</td>\n",
              "      <td>169.9820</td>\n",
              "      <td>343.1955</td>\n",
              "      <td>200.9694</td>\n",
              "      <td>93.90508</td>\n",
              "      <td>41.40625</td>\n",
              "      <td>31.25000</td>\n",
              "      <td>69.53125</td>\n",
              "      <td>30.46875</td>\n",
              "      <td>31.770830</td>\n",
              "      <td>41.66666</td>\n",
              "      <td>39.351852</td>\n",
              "      <td>65.39352</td>\n",
              "      <td>51.21528</td>\n",
              "      <td>38.194443</td>\n",
              "      <td>155.9606</td>\n",
              "      <td>67.12963</td>\n",
              "      <td>241.3194</td>\n",
              "      <td>203.7037</td>\n",
              "      <td>NORMAL</td>\n",
              "    </tr>\n",
              "    <tr>\n",
              "      <th>3</th>\n",
              "      <td>3</td>\n",
              "      <td>2018-04-01 00:03:00</td>\n",
              "      <td>2.460474</td>\n",
              "      <td>47.09201</td>\n",
              "      <td>53.1684</td>\n",
              "      <td>46.397568</td>\n",
              "      <td>628.1250</td>\n",
              "      <td>76.98898</td>\n",
              "      <td>13.31742</td>\n",
              "      <td>16.24711</td>\n",
              "      <td>15.69734</td>\n",
              "      <td>15.08247</td>\n",
              "      <td>38.57977</td>\n",
              "      <td>48.65607</td>\n",
              "      <td>31.67221</td>\n",
              "      <td>1.579427</td>\n",
              "      <td>420.7494</td>\n",
              "      <td>NaN</td>\n",
              "      <td>462.8980</td>\n",
              "      <td>460.8858</td>\n",
              "      <td>2.509521</td>\n",
              "      <td>666.0114</td>\n",
              "      <td>399.1046</td>\n",
              "      <td>878.8917</td>\n",
              "      <td>499.0430</td>\n",
              "      <td>977.7520</td>\n",
              "      <td>625.4076</td>\n",
              "      <td>739.2722</td>\n",
              "      <td>847.7579</td>\n",
              "      <td>474.8731</td>\n",
              "      <td>779.5091</td>\n",
              "      <td>690.4011</td>\n",
              "      <td>686.1111</td>\n",
              "      <td>754.6875</td>\n",
              "      <td>683.3831</td>\n",
              "      <td>446.2493</td>\n",
              "      <td>166.4987</td>\n",
              "      <td>343.9586</td>\n",
              "      <td>193.1689</td>\n",
              "      <td>101.04060</td>\n",
              "      <td>41.92708</td>\n",
              "      <td>31.51042</td>\n",
              "      <td>72.13541</td>\n",
              "      <td>30.46875</td>\n",
              "      <td>31.510420</td>\n",
              "      <td>40.88541</td>\n",
              "      <td>39.062500</td>\n",
              "      <td>64.81481</td>\n",
              "      <td>51.21528</td>\n",
              "      <td>38.194440</td>\n",
              "      <td>155.9606</td>\n",
              "      <td>66.84028</td>\n",
              "      <td>240.4514</td>\n",
              "      <td>203.1250</td>\n",
              "      <td>NORMAL</td>\n",
              "    </tr>\n",
              "    <tr>\n",
              "      <th>4</th>\n",
              "      <td>4</td>\n",
              "      <td>2018-04-01 00:04:00</td>\n",
              "      <td>2.445718</td>\n",
              "      <td>47.13541</td>\n",
              "      <td>53.2118</td>\n",
              "      <td>46.397568</td>\n",
              "      <td>636.4583</td>\n",
              "      <td>76.58897</td>\n",
              "      <td>13.35359</td>\n",
              "      <td>16.21094</td>\n",
              "      <td>15.69734</td>\n",
              "      <td>15.08247</td>\n",
              "      <td>39.48939</td>\n",
              "      <td>49.06298</td>\n",
              "      <td>31.95202</td>\n",
              "      <td>1.683831</td>\n",
              "      <td>419.8926</td>\n",
              "      <td>NaN</td>\n",
              "      <td>461.4906</td>\n",
              "      <td>468.2206</td>\n",
              "      <td>2.604785</td>\n",
              "      <td>663.2111</td>\n",
              "      <td>400.5426</td>\n",
              "      <td>882.5874</td>\n",
              "      <td>498.5383</td>\n",
              "      <td>979.5755</td>\n",
              "      <td>627.1830</td>\n",
              "      <td>737.6033</td>\n",
              "      <td>846.9182</td>\n",
              "      <td>408.8159</td>\n",
              "      <td>785.2307</td>\n",
              "      <td>704.6937</td>\n",
              "      <td>631.4814</td>\n",
              "      <td>766.1458</td>\n",
              "      <td>702.4431</td>\n",
              "      <td>433.9081</td>\n",
              "      <td>164.7498</td>\n",
              "      <td>339.9630</td>\n",
              "      <td>193.8770</td>\n",
              "      <td>101.70380</td>\n",
              "      <td>42.70833</td>\n",
              "      <td>31.51042</td>\n",
              "      <td>76.82291</td>\n",
              "      <td>30.98958</td>\n",
              "      <td>31.510420</td>\n",
              "      <td>41.40625</td>\n",
              "      <td>38.773150</td>\n",
              "      <td>65.10416</td>\n",
              "      <td>51.79398</td>\n",
              "      <td>38.773150</td>\n",
              "      <td>158.2755</td>\n",
              "      <td>66.55093</td>\n",
              "      <td>242.1875</td>\n",
              "      <td>201.3889</td>\n",
              "      <td>NORMAL</td>\n",
              "    </tr>\n",
              "  </tbody>\n",
              "</table>\n",
              "</div>"
            ],
            "text/plain": [
              "   Unnamed: 0            timestamp  ...  sensor_51  machine_status\n",
              "0           0  2018-04-01 00:00:00  ...   201.3889          NORMAL\n",
              "1           1  2018-04-01 00:01:00  ...   201.3889          NORMAL\n",
              "2           2  2018-04-01 00:02:00  ...   203.7037          NORMAL\n",
              "3           3  2018-04-01 00:03:00  ...   203.1250          NORMAL\n",
              "4           4  2018-04-01 00:04:00  ...   201.3889          NORMAL\n",
              "\n",
              "[5 rows x 55 columns]"
            ]
          },
          "metadata": {
            "tags": []
          },
          "execution_count": 6
        }
      ]
    },
    {
      "cell_type": "markdown",
      "metadata": {
        "id": "2hvT2WrIFMfQ"
      },
      "source": [
        "# Pre Processamento"
      ]
    },
    {
      "cell_type": "code",
      "metadata": {
        "id": "8uCBMmOpuSh5",
        "colab": {
          "base_uri": "https://localhost:8080/"
        },
        "outputId": "b63f5b32-d740-404c-e169-8913d983c6e9"
      },
      "source": [
        "# Pre Processamento \n",
        "import numpy as np \n",
        "sensor = df.drop(['timestamp'], axis=1)\n",
        "sensor = sensor.reset_index()\n",
        "sensor.replace(np.nan, 0, inplace=True) #substituindo valores NaN por 0\n",
        "sensor.info()\n"
      ],
      "execution_count": null,
      "outputs": [
        {
          "output_type": "stream",
          "text": [
            "<class 'pandas.core.frame.DataFrame'>\n",
            "RangeIndex: 220320 entries, 0 to 220319\n",
            "Data columns (total 55 columns):\n",
            " #   Column          Non-Null Count   Dtype  \n",
            "---  ------          --------------   -----  \n",
            " 0   index           220320 non-null  int64  \n",
            " 1   Unnamed: 0      220320 non-null  int64  \n",
            " 2   sensor_00       220320 non-null  float64\n",
            " 3   sensor_01       220320 non-null  float64\n",
            " 4   sensor_02       220320 non-null  float64\n",
            " 5   sensor_03       220320 non-null  float64\n",
            " 6   sensor_04       220320 non-null  float64\n",
            " 7   sensor_05       220320 non-null  float64\n",
            " 8   sensor_06       220320 non-null  float64\n",
            " 9   sensor_07       220320 non-null  float64\n",
            " 10  sensor_08       220320 non-null  float64\n",
            " 11  sensor_09       220320 non-null  float64\n",
            " 12  sensor_10       220320 non-null  float64\n",
            " 13  sensor_11       220320 non-null  float64\n",
            " 14  sensor_12       220320 non-null  float64\n",
            " 15  sensor_13       220320 non-null  float64\n",
            " 16  sensor_14       220320 non-null  float64\n",
            " 17  sensor_15       220320 non-null  float64\n",
            " 18  sensor_16       220320 non-null  float64\n",
            " 19  sensor_17       220320 non-null  float64\n",
            " 20  sensor_18       220320 non-null  float64\n",
            " 21  sensor_19       220320 non-null  float64\n",
            " 22  sensor_20       220320 non-null  float64\n",
            " 23  sensor_21       220320 non-null  float64\n",
            " 24  sensor_22       220320 non-null  float64\n",
            " 25  sensor_23       220320 non-null  float64\n",
            " 26  sensor_24       220320 non-null  float64\n",
            " 27  sensor_25       220320 non-null  float64\n",
            " 28  sensor_26       220320 non-null  float64\n",
            " 29  sensor_27       220320 non-null  float64\n",
            " 30  sensor_28       220320 non-null  float64\n",
            " 31  sensor_29       220320 non-null  float64\n",
            " 32  sensor_30       220320 non-null  float64\n",
            " 33  sensor_31       220320 non-null  float64\n",
            " 34  sensor_32       220320 non-null  float64\n",
            " 35  sensor_33       220320 non-null  float64\n",
            " 36  sensor_34       220320 non-null  float64\n",
            " 37  sensor_35       220320 non-null  float64\n",
            " 38  sensor_36       220320 non-null  float64\n",
            " 39  sensor_37       220320 non-null  float64\n",
            " 40  sensor_38       220320 non-null  float64\n",
            " 41  sensor_39       220320 non-null  float64\n",
            " 42  sensor_40       220320 non-null  float64\n",
            " 43  sensor_41       220320 non-null  float64\n",
            " 44  sensor_42       220320 non-null  float64\n",
            " 45  sensor_43       220320 non-null  float64\n",
            " 46  sensor_44       220320 non-null  float64\n",
            " 47  sensor_45       220320 non-null  float64\n",
            " 48  sensor_46       220320 non-null  float64\n",
            " 49  sensor_47       220320 non-null  float64\n",
            " 50  sensor_48       220320 non-null  float64\n",
            " 51  sensor_49       220320 non-null  float64\n",
            " 52  sensor_50       220320 non-null  float64\n",
            " 53  sensor_51       220320 non-null  float64\n",
            " 54  machine_status  220320 non-null  object \n",
            "dtypes: float64(52), int64(2), object(1)\n",
            "memory usage: 92.5+ MB\n"
          ],
          "name": "stdout"
        }
      ]
    },
    {
      "cell_type": "markdown",
      "metadata": {
        "id": "1_GaKU6HKgTd"
      },
      "source": [
        "# Componente de Aprendizagem"
      ]
    },
    {
      "cell_type": "code",
      "metadata": {
        "id": "OC0GReohKxtt"
      },
      "source": [
        "from sklearn.model_selection import train_test_split\n",
        "from sklearn.naive_bayes import GaussianNB\n",
        "import seaborn as sns\n",
        "\n",
        "X = sensor.drop('machine_status', axis=1)\n",
        "y = sensor['machine_status'] \n",
        "\n",
        "X_train, X_test, y_train, y_test = train_test_split(X, y, test_size=0.5, random_state=0)\n",
        "\n",
        "\n",
        "\n",
        "\n"
      ],
      "execution_count": null,
      "outputs": []
    },
    {
      "cell_type": "code",
      "metadata": {
        "id": "tggmRpZrMqlS",
        "colab": {
          "base_uri": "https://localhost:8080/"
        },
        "outputId": "bb3303d0-5a8c-4129-fe54-61282c9f3340"
      },
      "source": [
        " #Gaussian Naive Bayes\n",
        "\n",
        "gnb = GaussianNB()\n",
        "y_pred = gnb.fit(X_train, y_train).predict(X_test)\n",
        "print(y_pred)\n",
        "print(\"Number of mislabeled points out of a total %d points : %d\"\n",
        "% (X_test.shape[0], (y_test != y_pred).sum())) # 2% de erro"
      ],
      "execution_count": null,
      "outputs": [
        {
          "output_type": "stream",
          "text": [
            "['NORMAL' 'NORMAL' 'NORMAL' ... 'RECOVERING' 'NORMAL' 'NORMAL']\n",
            "Number of mislabeled points out of a total 110160 points : 2275\n"
          ],
          "name": "stdout"
        }
      ]
    },
    {
      "cell_type": "markdown",
      "metadata": {
        "id": "yVxWCjSqFSmm"
      },
      "source": [
        "# Tomada de Decisão"
      ]
    },
    {
      "cell_type": "code",
      "metadata": {
        "id": "po5LHSL3_P8Q"
      },
      "source": [
        "alvos = pd.DataFrame(y_pred)\n",
        "alvos = alvos.astype(str)\n",
        "alvos.rename(columns={0: 'machine_status'}, inplace=True)\n",
        "teste = pd.concat([X_test,alvos])\n",
        "\n",
        "\n",
        "deletados = teste.drop(teste[teste['machine_status'] == \"BROKEN\"].index)\n"
      ],
      "execution_count": 54,
      "outputs": []
    },
    {
      "cell_type": "markdown",
      "metadata": {
        "id": "FvBF-gvPfa2d"
      },
      "source": [
        "O ALVO PODE TER 3 VALORES ['NORMAL', 'RECOVERING', 'BROKEN']"
      ]
    },
    {
      "cell_type": "markdown",
      "metadata": {
        "id": "pqtgiVKO_SPX"
      },
      "source": [
        "# Agentes"
      ]
    },
    {
      "cell_type": "code",
      "metadata": {
        "id": "LDETxmW8FJnt"
      },
      "source": [
        "import csv\n",
        "import random\n",
        "from mesa import Agent, Model\n",
        "from mesa.time import RandomActivation\n",
        "from mesa.space import MultiGrid\n",
        "\n",
        "class ConsumerAgent(Agent):\n",
        "\n",
        "    def __init__(self, name, model, ratingarray):\n",
        "        super().__init__(name, model) \n",
        "        self.name = name\n",
        "        self.rate[i] = ratingarray\n",
        "\n",
        "\n",
        "    def step(self):\n",
        "         print(\"agent {}  was activated\".format(self.name))\n",
        "         # Whatever else the agent does when activated\n",
        "\n",
        "\n",
        "class ProductEvalModel(Model):\n",
        "\n",
        "    def __init__(self, n_agents):\n",
        "       self.schedule = RandomActivation(self)\n",
        "       self.grid = MultiGrid(10, 10, torus=True)\n",
        "       # you could also just pass it in as a parameter, but I usually make it an \n",
        "       #attribute of the model\n",
        "       self.ratingarray = [[sensor_00],[sensor_01],[sensor_02],[sensor_03],[sensor_04],[sensor_05],[sensor_06],[sensor_07],[sensor_08],[sensor_09],\n",
        "                           [sensor_10],[sensor_11],[sensor_12],[sensor_13],[sensor_14],[sensor_15],[sensor_16],[sensor_17],[sensor_18],[sensor_19],[sensor_20],[sensor_21],[sensor_22],[sensor_23],[sensor_24],[sensor_25],[sensor_26],[sensor_27],[sensor_28],[sensor_29],\n",
        "                           [sensor_30],[sensor_31],[sensor_32],[sensor_33],[sensor_34],[sensor_35],[sensor_36],[sensor_37],[sensor_38],[sensor_39],\n",
        "                           [sensor_40],[sensor_41],[sensor_42],[sensor_43],[sensor_44],[sensor_45],[sensor_46],[sensor_47],[sensor_48],[sensor_49],\n",
        "                           [sensor_50],[sensor_51],[machine_status]] \n",
        "\n",
        "\n",
        "    for i in range(n_agents):\n",
        "        a = ConsumerAgent(i, self, self.ratingarray[i]) #passes in row of data\n",
        "                                                        #to be agent attribute\n",
        "        self.schedule.add(a)\n",
        "        coords = (random.randrange(0, 10), random.randrange(0, 10))\n",
        "        self.grid.place_agent(a, coords)\n",
        "\n",
        "    def step(self):\n",
        "       self.schedule.step()\n",
        "       #self.dc.collect(self)"
      ],
      "execution_count": null,
      "outputs": []
    },
    {
      "cell_type": "markdown",
      "metadata": {
        "id": "l2opgupvLuyU"
      },
      "source": [
        "# Referencias \n",
        "\n",
        "Instalando Framework Mesa https://mesa.readthedocs.io/en/stable/\n",
        "\n",
        "Base de dados disponivel em https://www.kaggle.com/nphantawee/pump-sensor-data"
      ]
    }
  ]
}